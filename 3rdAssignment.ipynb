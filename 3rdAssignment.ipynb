{
 "cells": [
  {
   "cell_type": "markdown",
   "metadata": {},
   "source": [
    "## 1.Write a Python Program to implement your own myreduce() function which works exactly like Python's built-in function reduce()"
   ]
  },
  {
   "cell_type": "code",
   "execution_count": 6,
   "metadata": {},
   "outputs": [
    {
     "data": {
      "text/plain": [
       "15"
      ]
     },
     "execution_count": 6,
     "metadata": {},
     "output_type": "execute_result"
    }
   ],
   "source": [
    "#build-in myreduce() \n",
    "def add(a,b):\n",
    "    return a+b\n",
    "from functools import reduce\n",
    "lst=[1,2,3,4,5]\n",
    "reduce(add,lst)\n"
   ]
  },
  {
   "cell_type": "code",
   "execution_count": 24,
   "metadata": {},
   "outputs": [
    {
     "name": "stdout",
     "output_type": "stream",
     "text": [
      "80\n",
      "119\n",
      "169\n",
      "myreduce for add 169\n"
     ]
    }
   ],
   "source": [
    "#defining, my own myreduce()\n",
    "def myreduce(func,mylist):\n",
    "    x=mylist[0]\n",
    "    for i in range(1,len(mylist)):\n",
    "        x=func(x,mylist[i])\n",
    "        print(x)\n",
    "    return(x)\n",
    "def add(a,b):\n",
    "    return a+b\n",
    "L1=[25,55,39,50]\n",
    "print(\"myreduce for add\",myreduce(add,L1))"
   ]
  },
  {
   "cell_type": "markdown",
   "metadata": {},
   "source": [
    "## 2.Write a Python program to implement your own myfilter() function which works exactly like Python's built-in function filter()"
   ]
  },
  {
   "cell_type": "code",
   "execution_count": 34,
   "metadata": {},
   "outputs": [
    {
     "name": "stdout",
     "output_type": "stream",
     "text": [
      "30\n",
      "25\n",
      "35\n",
      "10\n"
     ]
    }
   ],
   "source": [
    "#built-in filter()\n",
    "marks=[99,30,55,89,79,25,35,10]\n",
    "def myFunc(x):\n",
    "    if x>35:\n",
    "        return False\n",
    "    else:\n",
    "        return True\n",
    "Failed=filter(myFunc,marks)\n",
    "\n",
    "for x in Failed:\n",
    "        print(x)\n",
    "\n"
   ]
  },
  {
   "cell_type": "code",
   "execution_count": 29,
   "metadata": {},
   "outputs": [
    {
     "name": "stdout",
     "output_type": "stream",
     "text": [
      "[2, 4, 6, 8, 10, 12, 14, 16, 20]\n"
     ]
    }
   ],
   "source": [
    "#defining, my own filter()\n",
    "def my_filter(func,sequence):\n",
    "    result=[]\n",
    "    for variable in sequence :\n",
    "        if func(variable):\n",
    "            result.append(variable)\n",
    "    return result\n",
    "\n",
    "def is_even(item):\n",
    "    if item%2==0 :\n",
    "        return True\n",
    "    else :\n",
    "        return False\n",
    " \n",
    "    \n",
    "\n",
    "sequence=[1,2,3,4,5,6,7,8,9,10,11,12,13,14,15,16,17,19,20]\n",
    "print(my_filter(is_even,sequence))"
   ]
  },
  {
   "cell_type": "markdown",
   "metadata": {},
   "source": [
    "## 3. Implement List comprehensions to produce the following lists.Write List comprehensions to produce the following Lists\n"
   ]
  },
  {
   "cell_type": "code",
   "execution_count": 21,
   "metadata": {},
   "outputs": [
    {
     "name": "stdout",
     "output_type": "stream",
     "text": [
      " ['x', 'xx', 'xxx', 'xxxx', 'y', 'yy', 'yyy', 'yyyy', 'z', 'zz', 'zzz', 'zzzz']\n",
      " ['x', 'y', 'z', 'xx', 'yy', 'zz', 'xxx', 'yyy', 'zzz', 'xxxx', 'yyyy', 'zzzz']\n",
      " [[2], [3], [4], [3], [4], [5], [4], [5], [6]]\n",
      " [[2, 3, 4, 5], [3, 4, 5, 6], [4, 5, 6, 7], [5, 6, 7, 8]]\n",
      " [(1, 1), (2, 1), (3, 1), (1, 2), (2, 2), (3, 2), (1, 3), (2, 3), (3, 3)]\n"
     ]
    }
   ],
   "source": [
    "#1\n",
    "lst=['x','y','z']\n",
    "result=[item*num for item in lst for num in range(1,5)]\n",
    "print(\" \" +str(result))\n",
    "#2 \n",
    "result=[item*num for num in range(1,5) for item in lst]\n",
    "print(\" \" +str(result))\n",
    "#3\n",
    "lst1=[2,3,4]\n",
    "result=[[item+num] for item in lst1 for num in range(0,3)]\n",
    "print(\" \"+str(result))\n",
    "#4\n",
    "lst2=[2,3,4,5]\n",
    "result=[[item+num for item in lst2] for num in range(0,4)]\n",
    "print(\" \"+str(result))\n",
    "#5\n",
    "lst3=[1,2,3]\n",
    "result=[(y,x) for x in lst3 for y in lst3]\n",
    "print(\" \"+str(result))"
   ]
  },
  {
   "cell_type": "code",
   "execution_count": null,
   "metadata": {},
   "outputs": [],
   "source": []
  }
 ],
 "metadata": {
  "kernelspec": {
   "display_name": "Python 3",
   "language": "python",
   "name": "python3"
  },
  "language_info": {
   "codemirror_mode": {
    "name": "ipython",
    "version": 3
   },
   "file_extension": ".py",
   "mimetype": "text/x-python",
   "name": "python",
   "nbconvert_exporter": "python",
   "pygments_lexer": "ipython3",
   "version": "3.8.5"
  }
 },
 "nbformat": 4,
 "nbformat_minor": 4
}
